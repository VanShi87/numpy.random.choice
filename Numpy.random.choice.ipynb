{
 "cells": [
  {
   "cell_type": "code",
   "execution_count": 5,
   "metadata": {},
   "outputs": [
    {
     "name": "stdout",
     "output_type": "stream",
     "text": [
      "func1 2.7103597640991213\n",
      "func2 2.610360527038574\n",
      "func3 2.7109482288360596\n",
      "func4 0.0014087677001953125\n",
      "func5 7.739067077636719e-05\n",
      "func6 6.59942626953125e-05\n",
      "func7 0.009604072570800782\n",
      "func8 0.009725332260131836\n",
      "func9 0.009739160537719727\n",
      "func10 0.0008245468139648438\n",
      "func11 0.0009709835052490234\n",
      "func12 0.0009768486022949218\n"
     ]
    }
   ],
   "source": [
    "import random\n",
    "import numpy as np\n",
    "import time\n",
    "\n",
    "n_iter = 5\n",
    "num_elements = 1000\n",
    "\n",
    "index_dict = {i:random.randint(1,1000) for i in range(100000)}\n",
    "index_list = sorted(index_dict.keys())\n",
    "index_array = np.array(index_list)\n",
    "sum_counts = sum(index_dict.values())\n",
    "prob_list = [index_dict[i]/sum_counts for i in sorted(index_dict.keys())]\n",
    "count_list = []\n",
    "for i in sorted(index_dict.keys()):\n",
    "    count_list.extend([i]*index_dict[i])\n",
    "prob_array = np.array(prob_list)\n",
    "count_array = np.array(count_list)\n",
    "\n",
    "\n",
    "def func1():\n",
    "    return [np.random.choice(count_list) for j in range(num_elements//1000)]\n",
    "\n",
    "def func2():\n",
    "    return [np.random.choice(count_list, num_elements)]\n",
    "\n",
    "def func3():\n",
    "    return np.random.choice(count_list, num_elements)\n",
    "\n",
    "def func4():\n",
    "    return [np.random.choice(count_array) for j in range(num_elements)]\n",
    "\n",
    "def func5():\n",
    "    return [np.random.choice(count_array, num_elements)]\n",
    "\n",
    "def func6():\n",
    "    return np.random.choice(count_array, num_elements)\n",
    "\n",
    "def func7():\n",
    "    return [np.random.choice(index_list, p=prob_list) for j in range(num_elements//1000)]\n",
    "\n",
    "def func8():\n",
    "    return [np.random.choice(index_list, num_elements, p=prob_list)]\n",
    "\n",
    "def func9():\n",
    "    return np.random.choice(index_list, num_elements, p=prob_list)\n",
    "\n",
    "def func10():\n",
    "    return [np.random.choice(index_array, p=prob_array) for j in range(num_elements//1000)]\n",
    "\n",
    "def func11():\n",
    "    return [np.random.choice(index_array, num_elements, p=prob_array)]\n",
    "\n",
    "def func12():\n",
    "    return np.random.choice(index_array, num_elements, p=prob_array)\n",
    "\n",
    "func = [func1, func2, func3, func4, func5, func6, func7, func8, func9, func10, func11, func12]\n",
    "duration = []\n",
    "for i in range(len(func)):\n",
    "    start = time.time()\n",
    "    for j in range(n_iter):\n",
    "        x = func[i]()\n",
    "    end = time.time()\n",
    "    duration.append((end - start) / n_iter)\n",
    "    print(func[i].__name__, duration[i])\n",
    "\n",
    "\n",
    "\n",
    "\n",
    "\n",
    "\n"
   ]
  },
  {
   "cell_type": "code",
   "execution_count": null,
   "metadata": {},
   "outputs": [],
   "source": []
  },
  {
   "cell_type": "code",
   "execution_count": null,
   "metadata": {},
   "outputs": [],
   "source": []
  },
  {
   "cell_type": "code",
   "execution_count": null,
   "metadata": {},
   "outputs": [],
   "source": []
  }
 ],
 "metadata": {
  "kernelspec": {
   "display_name": "Python 3",
   "language": "python",
   "name": "python3"
  },
  "language_info": {
   "codemirror_mode": {
    "name": "ipython",
    "version": 3
   },
   "file_extension": ".py",
   "mimetype": "text/x-python",
   "name": "python",
   "nbconvert_exporter": "python",
   "pygments_lexer": "ipython3",
   "version": "3.6.8"
  }
 },
 "nbformat": 4,
 "nbformat_minor": 4
}
